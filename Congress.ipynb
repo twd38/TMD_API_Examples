{
 "cells": [
  {
   "cell_type": "markdown",
   "metadata": {},
   "source": [
    "Propublica Congress API demo\n",
    "Based on demo at https://propublica-congress.readthedocs.io/en/latest/\n",
    "(with updates to correct issues)"
   ]
  },
  {
   "cell_type": "code",
   "execution_count": 3,
   "metadata": {},
   "outputs": [],
   "source": [
    "API_KEY = \"nBdmjuOSgcvCeUq1ra53eYPVwjlxdGmWAsjq1X9L \"\n",
    "\n",
    "from congress import Congress\n",
    "congress = Congress(API_KEY)"
   ]
  },
  {
   "cell_type": "markdown",
   "metadata": {},
   "source": [
    "Using Members endpoint:"
   ]
  },
  {
   "cell_type": "code",
   "execution_count": 26,
   "metadata": {},
   "outputs": [
    {
     "data": {
      "text/plain": [
       "'RepBetoORourke'"
      ]
     },
     "execution_count": 26,
     "metadata": {},
     "output_type": "execute_result"
    }
   ],
   "source": [
    "# get member by bioguide ID\n",
    "beto_id='O000170'\n",
    "beto = congress.members.get(beto_id)\n",
    "\n",
    "beto['twitter_account']"
   ]
  },
  {
   "cell_type": "markdown",
   "metadata": {},
   "source": [
    "Bills endpoint: \n",
    "\n",
    "Get recent House bills\n",
    "Tecent bills come in two types: 'introduced' and 'updated'"
   ]
  },
  {
   "cell_type": "code",
   "execution_count": 27,
   "metadata": {},
   "outputs": [
    {
     "data": {
      "text/plain": [
       "20"
      ]
     },
     "execution_count": 27,
     "metadata": {},
     "output_type": "execute_result"
    }
   ],
   "source": [
    "introdcued = congress.bills.recent(\n",
    "    chamber ='house',\n",
    "    congress=115,\n",
    "    type    ='introduced')\n",
    "# Or: introduced = congress.bills.introduced('house')\n",
    "\n",
    "len(introdcued['bills'])"
   ]
  },
  {
   "cell_type": "code",
   "execution_count": 28,
   "metadata": {},
   "outputs": [
    {
     "data": {
      "text/plain": [
       "6"
      ]
     },
     "execution_count": 28,
     "metadata": {},
     "output_type": "execute_result"
    }
   ],
   "source": [
    "member_introduced = congress.members.bills('O000170', type='introduced')\n",
    "len(member_introduced)"
   ]
  },
  {
   "cell_type": "code",
   "execution_count": 29,
   "metadata": {},
   "outputs": [
    {
     "data": {
      "text/plain": [
       "20"
      ]
     },
     "execution_count": 29,
     "metadata": {},
     "output_type": "execute_result"
    }
   ],
   "source": [
    "passed = congress.bills.passed('senate')\n",
    "len(passed['bills'])"
   ]
  },
  {
   "cell_type": "code",
   "execution_count": 30,
   "metadata": {
    "scrolled": true
   },
   "outputs": [
    {
     "data": {
      "text/plain": [
       "{'active': True,\n",
       " 'bill_id': 's1438-115',\n",
       " 'bill_slug': 's1438',\n",
       " 'bill_type': 's',\n",
       " 'bill_uri': 'https://api.propublica.org/congress/v1/115/bills/s1438.json',\n",
       " 'committee_codes': ['HSII', 'SSEG'],\n",
       " 'committees': 'House Natural Resources Committee',\n",
       " 'congressdotgov_url': 'https://www.congress.gov/bill/115th-congress/senate-bill/1438',\n",
       " 'cosponsors': 1,\n",
       " 'cosponsors_by_party': {'D': 1},\n",
       " 'enacted': None,\n",
       " 'govtrack_url': 'https://www.govtrack.us/congress/bills/115/s1438',\n",
       " 'gpo_pdf_uri': None,\n",
       " 'house_passage': '2018-02-07',\n",
       " 'introduced_date': '2017-06-26',\n",
       " 'last_vote': None,\n",
       " 'latest_major_action': 'Presented to President.',\n",
       " 'latest_major_action_date': '2018-02-12',\n",
       " 'number': 'S.1438',\n",
       " 'primary_subject': 'Public Lands and Natural Resources',\n",
       " 'senate_passage': '2017-12-21',\n",
       " 'short_title': 'Gateway Arch National Park Designation Act',\n",
       " 'sponsor_id': 'B000575',\n",
       " 'sponsor_name': 'Roy Blunt',\n",
       " 'sponsor_party': 'R',\n",
       " 'sponsor_state': 'MO',\n",
       " 'sponsor_title': 'Sen.',\n",
       " 'sponsor_uri': 'https://api.propublica.org/congress/v1/members/B000575.json',\n",
       " 'subcommittee_codes': ['HSII10', 'SSEG04'],\n",
       " 'summary': 'Gateway Arch National Park Designation Act This bill designates the Jefferson National Expansion Memorial in Missouri as the \"Gateway Arch National Park.\"',\n",
       " 'summary_short': 'Gateway Arch National Park Designation Act This bill designates the Jefferson National Expansion Memorial in Missouri as the &quot;Gateway Arch National Park.&quot;',\n",
       " 'title': 'A bill to redesignate the Jefferson National Expansion Memorial in the State of Missouri as the \"Gateway Arch National Park\".',\n",
       " 'vetoed': None}"
      ]
     },
     "execution_count": 30,
     "metadata": {},
     "output_type": "execute_result"
    }
   ],
   "source": [
    "passed['bills'][0]"
   ]
  },
  {
   "cell_type": "code",
   "execution_count": null,
   "metadata": {
    "collapsed": true
   },
   "outputs": [],
   "source": []
  },
  {
   "cell_type": "code",
   "execution_count": null,
   "metadata": {
    "collapsed": true
   },
   "outputs": [],
   "source": []
  }
 ],
 "metadata": {
  "kernelspec": {
   "display_name": "Python 3",
   "language": "python",
   "name": "python3"
  },
  "language_info": {
   "codemirror_mode": {
    "name": "ipython",
    "version": 3
   },
   "file_extension": ".py",
   "mimetype": "text/x-python",
   "name": "python",
   "nbconvert_exporter": "python",
   "pygments_lexer": "ipython3",
   "version": "3.6.1"
  }
 },
 "nbformat": 4,
 "nbformat_minor": 2
}
